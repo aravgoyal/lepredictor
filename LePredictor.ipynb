{
 "cells": [
  {
   "cell_type": "code",
   "execution_count": 1,
   "id": "f183be20",
   "metadata": {
    "scrolled": true
   },
   "outputs": [],
   "source": [
    "from nba_api.stats.endpoints import leaguedashteamstats, scoreboard, leaguegamefinder\n",
    "from nba_api.stats.static import teams\n",
    "import requests\n",
    "import json\n",
    "import pandas as pd\n",
    "from sklearn.metrics import mean_squared_error\n",
    "from math import sqrt\n",
    "from sklearn.model_selection import train_test_split\n",
    "from sklearn.ensemble import GradientBoostingRegressor\n",
    "from sklearn.metrics import precision_score\n",
    "from sklearn.ensemble import RandomForestClassifier\n",
    "from sklearn.naive_bayes import GaussianNB"
   ]
  },
  {
   "cell_type": "code",
   "execution_count": 2,
   "id": "99235df8",
   "metadata": {},
   "outputs": [],
   "source": [
    "# NBA TEAM IDS:\n",
    "# https://github.com/bttmly/nba/blob/master/data/teams.json"
   ]
  },
  {
   "cell_type": "code",
   "execution_count": 3,
   "id": "28dac21a",
   "metadata": {},
   "outputs": [],
   "source": [
    "game_id = '0022300984'\n",
    "# Get **all** the games so we can filter to an individual GAME_ID\n",
    "result = leaguegamefinder.LeagueGameFinder()\n",
    "all_games = result.get_data_frames()[0]\n",
    "# Find the game_id we want\n",
    "full_game = all_games[all_games.GAME_ID == game_id]\n",
    "full_game\n",
    "def combine_team_games(df, keep_method='home'):\n",
    "    '''Combine a TEAM_ID-GAME_ID unique table into rows by game. Slow.\n",
    "        Parameters\n",
    "        ----------\n",
    "        df : Input DataFrame.\n",
    "        keep_method : {'home', 'away', 'winner', 'loser', ``None``}, default 'home'\n",
    "            - 'home' : Keep rows where TEAM_A is the home team.\n",
    "            - 'away' : Keep rows where TEAM_A is the away team.\n",
    "            - 'winner' : Keep rows where TEAM_A is the losing team.\n",
    "            - 'loser' : Keep rows where TEAM_A is the winning team.\n",
    "            - ``None`` : Keep all rows. Will result in an output DataFrame the same\n",
    "                length as the input DataFrame.\n",
    "        Returns\n",
    "        -------\n",
    "        result : DataFrame\n",
    "    '''\n",
    "    # Join every row to all others with the same game ID.\n",
    "    joined = pd.merge(df, df, suffixes=['_AWAY', '_HOME'],\n",
    "                      on=['SEASON_ID', 'GAME_ID', 'GAME_DATE'])\n",
    "    # Filter out any row that is joined to itself.\n",
    "    result = joined[joined.TEAM_ID_AWAY != joined.TEAM_ID_HOME]\n",
    "    # Take action based on the keep_method flag.\n",
    "    if keep_method is None:\n",
    "        # Return all the rows.\n",
    "        pass\n",
    "    elif keep_method.lower() == 'home':\n",
    "        # Keep rows where TEAM_A is the home team.\n",
    "        result = result[result.MATCHUP_AWAY.str.contains(' vs. ')]\n",
    "    elif keep_method.lower() == 'away':\n",
    "        # Keep rows where TEAM_A is the away team.\n",
    "        result = result[result.MATCHUP_AWAY.str.contains(' @ ')]\n",
    "    elif keep_method.lower() == 'winner':\n",
    "        result = result[result.WL_AWAY == 'W']\n",
    "    elif keep_method.lower() == 'loser':\n",
    "        result = result[result.WL_AWAY == 'L']\n",
    "    else:\n",
    "        raise ValueError(f'Invalid keep_method: {keep_method}')\n",
    "    return result\n",
    "# Combine the game rows into one. By default, the home team will be TEAM_A.\n",
    "game_df = combine_team_games(full_game)"
   ]
  },
  {
   "cell_type": "code",
   "execution_count": 4,
   "id": "16e7e91e",
   "metadata": {},
   "outputs": [],
   "source": [
    "celtics_id = 1610612738\n",
    "knicks_id = 1610612752\n",
    "\n",
    "def get_dfs(team_id):\n",
    "    seasons = ['2022-23', '2021-22', '2020-21']\n",
    "    gamefinder = leaguegamefinder.LeagueGameFinder(team_id_nullable=team_id, season_nullable='2023-24')\n",
    "    all_team_games = gamefinder.get_data_frames()[0]\n",
    "\n",
    "    for i in seasons:\n",
    "        new_gf = leaguegamefinder.LeagueGameFinder(team_id_nullable=team_id, season_nullable=i)\n",
    "        new_games = new_gf.get_data_frames()[0]\n",
    "        all_team_games = all_team_games.append(new_games)\n",
    "\n",
    "    all_team_games.index = range(0, all_team_games.shape[0])\n",
    "    game_ids = []\n",
    "    for i in range(all_team_games.shape[0]):\n",
    "        game_ids.append(all_team_games.loc[i]['GAME_ID'])\n",
    "        \n",
    "    rows = []\n",
    "    for id in game_ids:\n",
    "        get_games = all_games[all_games.GAME_ID == id]\n",
    "        new_row = combine_team_games(get_games).iloc[0]\n",
    "        rows.append(new_row)\n",
    "    df = pd.DataFrame(rows)\n",
    "    df_away = df[df['TEAM_ID_AWAY'].isin([team_id])]\n",
    "    df_home = df[df['TEAM_ID_HOME'].isin([team_id])]\n",
    "    df_home = df_home.sort_values(by='GAME_DATE', ascending=True)\n",
    "    df_away = df_away.sort_values(by='GAME_DATE', ascending=True)\n",
    "    df_away.index = range(0,df_away.shape[0])\n",
    "    df_home.index = range(0,df_home.shape[0])\n",
    "    return df_home, df_away"
   ]
  },
  {
   "cell_type": "code",
   "execution_count": 5,
   "id": "18cb8ccf",
   "metadata": {},
   "outputs": [],
   "source": [
    "def rolling_averages(group, cols, new_cols):\n",
    "    rolling_stats = group[cols].rolling(5, closed='left').mean()\n",
    "    group[new_cols] = rolling_stats\n",
    "    group = group.dropna(subset=new_cols)\n",
    "    return group"
   ]
  },
  {
   "cell_type": "code",
   "execution_count": 6,
   "id": "78f27e4d",
   "metadata": {},
   "outputs": [],
   "source": [
    "def add_new_cols(team_id):\n",
    "    df_home, df_away = get_dfs(team_id)\n",
    "    cols = ['PTS_AWAY', 'FGM_AWAY',\n",
    "           'FGA_AWAY', 'FG_PCT_AWAY', 'FG3M_AWAY', 'FG3A_AWAY', 'FG3_PCT_AWAY', 'FTM_AWAY', 'FTA_AWAY',\n",
    "           'FT_PCT_AWAY', 'OREB_AWAY', 'DREB_AWAY', 'REB_AWAY', 'AST_AWAY', 'BLK_AWAY',\n",
    "           'TOV_AWAY', 'PLUS_MINUS_AWAY', 'PTS_HOME', 'FGM_HOME', 'FGA_HOME',\n",
    "           'FG_PCT_HOME', 'FG3M_HOME', 'FG3A_HOME', 'FG3_PCT_HOME', 'FTM_HOME', 'FTA_HOME',\n",
    "           'FT_PCT_HOME', 'OREB_HOME', 'DREB_HOME', 'REB_HOME', 'AST_HOME', 'BLK_HOME',\n",
    "           'TOV_HOME', 'PLUS_MINUS_HOME']\n",
    "    new_cols = [f\"{c}_rolling\" for c in cols]\n",
    "    \n",
    "    df_home = rolling_averages(df_home, cols, new_cols)\n",
    "    df_away = rolling_averages(df_away, cols, new_cols)\n",
    "    df_home.index = range(0,df_home.shape[0])\n",
    "    df_away.index = range(0,df_away.shape[0])\n",
    "    return df_home, df_away, new_cols"
   ]
  },
  {
   "cell_type": "code",
   "execution_count": 7,
   "id": "1c5d8f5a",
   "metadata": {},
   "outputs": [],
   "source": [
    "def df_with_target(team_id):\n",
    "    df_home, df_away, new_cols = add_new_cols(team_id)\n",
    "    df_home[\"W\"] = (df_home[\"WL_HOME\"] == \"W\").astype(\"int\")\n",
    "    df_away[\"W\"] = (df_away[\"WL_AWAY\"] == \"W\").astype(\"int\")\n",
    "    df_home.index = range(0,df_home.shape[0])\n",
    "    df_away.index = range(0,df_away.shape[0])\n",
    "    return df_home, df_away, new_cols"
   ]
  },
  {
   "cell_type": "code",
   "execution_count": 8,
   "id": "9c340468",
   "metadata": {},
   "outputs": [],
   "source": [
    "def make_pred(data, predictors):\n",
    "#     model = RandomForestClassifier(n_estimators=50, min_samples_split=10, random_state=1)\n",
    "    model = GaussianNB()\n",
    "    train, test = train_test_split(data, test_size=0.2)\n",
    "    model.fit(train[predictors], train[\"W\"])\n",
    "    preds = model.predict(test[predictors])\n",
    "    combined = pd.DataFrame(dict(actual=test[\"W\"], predicted=preds), index=test.index)\n",
    "    precision = precision_score(test[\"W\"], preds)\n",
    "    return combined, precision, model"
   ]
  },
  {
   "cell_type": "code",
   "execution_count": 9,
   "id": "f6f48a92",
   "metadata": {},
   "outputs": [],
   "source": [
    "def find_accuracy(team_id):\n",
    "    df_home, df_away, new_cols = df_with_target(team_id)\n",
    "    combined_home, precision_home, model_home = make_pred(df_home, new_cols)\n",
    "    combined_away, precision_away, model_away = make_pred(df_away, new_cols)\n",
    "    return model_home, model_away, precision_home, precision_away"
   ]
  },
  {
   "cell_type": "code",
   "execution_count": 14,
   "id": "b79b95ab",
   "metadata": {},
   "outputs": [],
   "source": [
    "predictions=[]\n",
    "def predictor(away_id, home_id):\n",
    "    df_home, df_away1, new_cols = df_with_target(home_id)\n",
    "    df_home1, df_away, new_cols = df_with_target(away_id)\n",
    "    \n",
    "    home_stats = list(df_home.loc[:, 'PTS_HOME_rolling':'PLUS_MINUS_HOME_rolling'].iloc[-1])\n",
    "    away_stats = list(df_away.loc[:, 'PTS_AWAY_rolling':'PLUS_MINUS_AWAY_rolling'].iloc[-1])\n",
    "    new_stats = [away_stats+home_stats]\n",
    "    \n",
    "    model_home, model_away, precision_home, precision_away = find_accuracy(home_id)\n",
    "    \n",
    "    if precision_home < 0.65:\n",
    "        print(\"Loading...\")\n",
    "        predictor(away_id, home_id)\n",
    "    \n",
    "    precision_home *= 100\n",
    "    precision_home = round(precision_home, 1)  \n",
    "    df_home = pd.DataFrame(new_stats, columns=new_cols)\n",
    "    df_home['W'] = model_home.predict(new_stats)\n",
    "    \n",
    "    if df_home['W'].iloc[0] == 1:\n",
    "        result = \"win\"\n",
    "    else: \n",
    "        result = \"lose\"\n",
    "        \n",
    "    predictions.append(f\"I am {precision_home}% confident the home team will {result} against the away team.\")\n",
    "    return predictions"
   ]
  },
  {
   "cell_type": "code",
   "execution_count": 15,
   "id": "7a701b07",
   "metadata": {},
   "outputs": [],
   "source": [
    "def lepredictor(away_id, home_id):\n",
    "    predictions = predictor(away_id, home_id)\n",
    "    print(predictions[0])\n",
    "    predictions.clear()"
   ]
  },
  {
   "cell_type": "code",
   "execution_count": 16,
   "id": "0d463fd8",
   "metadata": {},
   "outputs": [],
   "source": [
    "cavs = 1610612739\n",
    "clippers = 1610612746\n",
    "knicks = knicks_id\n",
    "celtics = celtics_id\n",
    "hawks = 1610612737\n",
    "nets = 1610612751\n",
    "hornets = 1610612766\n",
    "bulls = 1610612741\n",
    "mavericks = 1610612742\n",
    "nuggets = 1610612743\n",
    "pistons = 1610612765\n",
    "warriors = 1610612744\n",
    "rockets = 1610612745\n",
    "pacers = 1610612754\n",
    "lakers = 1610612747\n",
    "grizzlies = 1610612763\n",
    "heat = 1610612748\n",
    "bucks = 1610612749\n",
    "timberwolves = 1610612750\n",
    "pelicans = 1610612740\n",
    "thunder = 1610612760\n",
    "magic = 1610612753\n",
    "sixers = 1610612755\n",
    "suns = 1610612756\n",
    "blazers = 1610612757\n",
    "kings = 1610612758\n",
    "spurs = 1610612759\n",
    "raptors = 1610612761\n",
    "jazz = 1610612762\n",
    "wizards = 1610612764"
   ]
  },
  {
   "cell_type": "code",
   "execution_count": 13,
   "id": "f738120d",
   "metadata": {},
   "outputs": [],
   "source": [
    "# lepredictor(knicks_id, celtics_id) # Knicks @ Celtics"
   ]
  },
  {
   "cell_type": "code",
   "execution_count": 14,
   "id": "c664d5c6",
   "metadata": {},
   "outputs": [],
   "source": [
    "# lepredictor(knicks_id, 1610612766) # Knicks @ Hornets"
   ]
  },
  {
   "cell_type": "code",
   "execution_count": 15,
   "id": "7bfe0019",
   "metadata": {
    "scrolled": true
   },
   "outputs": [],
   "source": [
    "# lepredictor(1610612766, knicks_id) # Hornets @ Knicks"
   ]
  },
  {
   "cell_type": "code",
   "execution_count": 16,
   "id": "4aae12cd",
   "metadata": {},
   "outputs": [],
   "source": [
    "# lepredictor(1610612737, 1610612763) # Sixers @ Grizzlies"
   ]
  },
  {
   "cell_type": "code",
   "execution_count": 17,
   "id": "3ef195b5",
   "metadata": {},
   "outputs": [],
   "source": [
    "# lepredictor(1610612755, 1610612743) # Hawks @ Nuggets"
   ]
  },
  {
   "cell_type": "code",
   "execution_count": 18,
   "id": "7e5dcef7",
   "metadata": {},
   "outputs": [],
   "source": [
    "# lepredictor(1610612739, 1610612747) # Cavs @ Lakers"
   ]
  },
  {
   "cell_type": "code",
   "execution_count": 19,
   "id": "d7b84230",
   "metadata": {},
   "outputs": [],
   "source": [
    "# lepredictor(1610612765, 1610612751) # Pistons @ Nets"
   ]
  },
  {
   "cell_type": "code",
   "execution_count": 17,
   "id": "159a0813",
   "metadata": {},
   "outputs": [
    {
     "name": "stdout",
     "output_type": "stream",
     "text": [
      "Loading...\n",
      "Loading...\n",
      "Loading...\n",
      "Loading...\n",
      "Loading...\n",
      "Loading...\n",
      "Loading...\n",
      "Loading...\n",
      "Loading...\n",
      "Loading...\n",
      "Loading...\n",
      "Loading...\n",
      "Loading...\n",
      "Loading...\n",
      "Loading...\n",
      "Loading...\n",
      "I am 66.7% confident the home team will win against the away team.\n"
     ]
    }
   ],
   "source": [
    "lepredictor(cavs, clippers) # Cavs @ Clips"
   ]
  },
  {
   "cell_type": "code",
   "execution_count": 18,
   "id": "b5d99928",
   "metadata": {},
   "outputs": [
    {
     "name": "stdout",
     "output_type": "stream",
     "text": [
      "I am 82.4% confident the home team will win against the away team.\n"
     ]
    }
   ],
   "source": [
    "lepredictor(rockets, mavericks) # Rockets @ Mavs"
   ]
  },
  {
   "cell_type": "code",
   "execution_count": 19,
   "id": "bf97158f",
   "metadata": {},
   "outputs": [
    {
     "name": "stdout",
     "output_type": "stream",
     "text": [
      "Loading...\n",
      "I am 75.0% confident the home team will lose against the away team.\n"
     ]
    }
   ],
   "source": [
    "lepredictor(heat, pacers) # Heat @ Pacers"
   ]
  },
  {
   "cell_type": "code",
   "execution_count": 20,
   "id": "0df87906",
   "metadata": {},
   "outputs": [
    {
     "name": "stdout",
     "output_type": "stream",
     "text": [
      "Loading...\n",
      "Loading...\n",
      "Loading...\n",
      "I am 66.7% confident the home team will lose against the away team.\n"
     ]
    }
   ],
   "source": [
    "lepredictor(blazers, celtics) # Blazers @ Celtics"
   ]
  },
  {
   "cell_type": "code",
   "execution_count": 21,
   "id": "e5c2a35d",
   "metadata": {},
   "outputs": [
    {
     "name": "stdout",
     "output_type": "stream",
     "text": [
      "Loading...\n",
      "Loading...\n",
      "Loading...\n",
      "Loading...\n",
      "Loading...\n",
      "I am 75.0% confident the home team will win against the away team.\n"
     ]
    }
   ],
   "source": [
    "lepredictor(bulls, magic)"
   ]
  },
  {
   "cell_type": "code",
   "execution_count": 22,
   "id": "1b130f37",
   "metadata": {},
   "outputs": [
    {
     "name": "stdout",
     "output_type": "stream",
     "text": [
      "Loading...\n",
      "Loading...\n",
      "Loading...\n",
      "Loading...\n",
      "Loading...\n",
      "I am 66.7% confident the home team will win against the away team.\n"
     ]
    }
   ],
   "source": [
    "lepredictor(wizards, raptors)"
   ]
  },
  {
   "cell_type": "code",
   "execution_count": 23,
   "id": "abacd0e5",
   "metadata": {},
   "outputs": [
    {
     "name": "stdout",
     "output_type": "stream",
     "text": [
      "Loading...\n",
      "I am 66.7% confident the home team will lose against the away team.\n"
     ]
    }
   ],
   "source": [
    "lepredictor(thunder, hornets)"
   ]
  }
 ],
 "metadata": {
  "kernelspec": {
   "display_name": "Python 3 (ipykernel)",
   "language": "python",
   "name": "python3"
  },
  "language_info": {
   "codemirror_mode": {
    "name": "ipython",
    "version": 3
   },
   "file_extension": ".py",
   "mimetype": "text/x-python",
   "name": "python",
   "nbconvert_exporter": "python",
   "pygments_lexer": "ipython3",
   "version": "3.9.7"
  }
 },
 "nbformat": 4,
 "nbformat_minor": 5
}
